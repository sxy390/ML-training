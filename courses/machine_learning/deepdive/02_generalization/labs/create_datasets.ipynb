{
 "cells": [
  {
   "cell_type": "markdown",
   "metadata": {
    "deletable": true,
    "editable": true
   },
   "source": [
    "<h1> Explore and create ML datasets </h1>\n",
    "\n",
    "In this notebook, we will explore data corresponding to taxi rides in New York City to build a Machine Learning model in support of a fare-estimation tool. The idea is to suggest a likely fare to taxi riders so that they are not surprised, and so that they can protest if the charge is much higher than expected.\n",
    "\n",
    "<div id=\"toc\"></div>\n",
    "\n",
    "Let's start off with the Python imports that we need."
   ]
  },
  {
   "cell_type": "code",
   "execution_count": 1,
   "metadata": {
    "deletable": true,
    "editable": true
   },
   "outputs": [],
   "source": [
    "from google.cloud import bigquery\n",
    "import seaborn as sns\n",
    "import pandas as pd\n",
    "import numpy as np\n",
    "import shutil"
   ]
  },
  {
   "cell_type": "markdown",
   "metadata": {
    "deletable": true,
    "editable": true
   },
   "source": [
    "<h3> Extract sample data from BigQuery </h3>\n",
    "\n",
    "The dataset that we will use is <a href=\"https://bigquery.cloud.google.com/table/nyc-tlc:yellow.trips\">a BigQuery public dataset</a>. Click on the link, and look at the column names. Switch to the Details tab to verify that the number of records is one billion, and then switch to the Preview tab to look at a few rows.\n",
    "\n",
    "Write a SQL query to pick up the following fields\n",
    "<pre>\n",
    "  pickup_datetime,\n",
    "  pickup_longitude, pickup_latitude, \n",
    "  dropoff_longitude, dropoff_latitude,\n",
    "  passenger_count,\n",
    "  trip_distance,\n",
    "  tolls_amount,\n",
    "  fare_amount,\n",
    "  total_amount\n",
    "</pre>\n",
    "from the dataset and explore a random subsample of the data. Sample size should be about 10,000 records. Make sure to pick a repeatable subset of the data so that if someone reruns this notebook, they will get the same results.\n",
    "<p>\n",
    "<b>Hint (highlight to see)</b>\n",
    "<pre style=\"color: white\">\n",
    "Set the query string to be:\n",
    "SELECT above_fields FROM\n",
    "  `nyc-tlc.yellow.trips`\n",
    "WHERE\n",
    "  ABS(MOD(FARM_FINGERPRINT(CAST(pickup_datetime AS STRING)), 100000)) = 1\n",
    "Then, use the BQ library:\n",
    "trips = bigquery.Client().query(query).execute().result().to_dataframe()\n",
    "</pre>"
   ]
  },
  {
   "cell_type": "code",
   "execution_count": 5,
   "metadata": {
    "collapsed": false,
    "deletable": true,
    "editable": true,
    "jupyter": {
     "outputs_hidden": false
    }
   },
   "outputs": [],
   "source": [
    "# TODO: write a BigQuery query for the above fields\n",
    "# Store it into a Pandas dataframe named \"trips\" that contains about 10,000 records.\n",
    "query = \"\"\"\n",
    "    SELECT \n",
    "        pickup_datetime,\n",
    "        pickup_longitude, pickup_latitude, \n",
    "        dropoff_longitude, dropoff_latitude,\n",
    "        passenger_count,\n",
    "        trip_distance,\n",
    "        tolls_amount,\n",
    "        fare_amount,\n",
    "        total_amount\n",
    "    FROM\n",
    "      `nyc-tlc.yellow.trips`\n",
    "    WHERE\n",
    "      ABS(MOD(FARM_FINGERPRINT(CAST(pickup_datetime AS STRING)), 100000)) = 1\n",
    "    \"\"\"\n",
    "# Then, use the BQ library:\n",
    "trips = bigquery.Client().query(query).to_dataframe()"
   ]
  },
  {
   "cell_type": "markdown",
   "metadata": {
    "deletable": true,
    "editable": true
   },
   "source": [
    "<h3> Exploring data </h3>\n",
    "\n",
    "Let's explore this dataset and clean it up as necessary. We'll use the Python Seaborn package to visualize graphs and Pandas to do the slicing and filtering."
   ]
  },
  {
   "cell_type": "code",
   "execution_count": 6,
   "metadata": {
    "collapsed": false,
    "deletable": true,
    "editable": true,
    "jupyter": {
     "outputs_hidden": false
    }
   },
   "outputs": [
    {
     "data": {
      "image/png": "[encoded data removed]",
      "text/plain": [
       "<Figure size 432x288 with 1 Axes>"
      ]
     },
     "metadata": {
      "needs_background": "light"
     },
     "output_type": "display_data"
    }
   ],
   "source": [
    "ax = sns.regplot(x = \"trip_distance\", y = \"fare_amount\", ci = None, truncate = True, data = trips)"
   ]
  },
  {
   "cell_type": "markdown",
   "metadata": {
    "deletable": true,
    "editable": true
   },
   "source": [
    "Hmm ... do you see something wrong with the data that needs addressing?\n",
    "\n",
    "It appears that we have a lot of invalid data that is being coded as zero distance and some fare amounts that are definitely illegitimate. Let's remove them from our analysis. We can do this by modifying the BigQuery query to keep only trips longer than zero miles and fare amounts that are at least the minimum cab fare ($2.50).\n",
    "\n",
    "What's up with the streaks at \\$45 and \\$50?  Those are fixed-amount rides from JFK and La Guardia airports into anywhere in Manhattan, i.e. to be expected. Let's list the data to make sure the values look reasonable.\n",
    "\n",
    "Let's examine whether the toll amount is captured in the total amount."
   ]
  },
  {
   "cell_type": "code",
   "execution_count": 9,
   "metadata": {
    "collapsed": false,
    "deletable": true,
    "editable": true,
    "jupyter": {
     "outputs_hidden": false
    }
   },
   "outputs": [
    {
     "data": {
      "text/html": [
       "<div>\n",
       "<table border=\"1\" class=\"dataframe\">\n",
       "  <thead>\n",
       "    <tr style=\"text-align: right;\">\n",
       "      <th></th>\n",
       "      <th>pickup_datetime</th>\n",
       "      <th>pickup_longitude</th>\n",
       "      <th>pickup_latitude</th>\n",
       "      <th>dropoff_longitude</th>\n",
       "      <th>dropoff_latitude</th>\n",
       "      <th>passenger_count</th>\n",
       "      <th>trip_distance</th>\n",
       "      <th>tolls_amount</th>\n",
       "      <th>fare_amount</th>\n",
       "      <th>total_amount</th>\n",
       "    </tr>\n",
       "  </thead>\n",
       "  <tbody>\n",
       "    <tr>\n",
       "      <th>2842</th>\n",
       "      <td>2014-05-20 23:09:00</td>\n",
       "      <td>-73.975610</td>\n",
       "      <td>40.751660</td>\n",
       "      <td>-73.953920</td>\n",
       "      <td>40.743240</td>\n",
       "      <td>1</td>\n",
       "      <td>2.22</td>\n",
       "      <td>5.33</td>\n",
       "      <td>8.5</td>\n",
       "      <td>14.83</td>\n",
       "    </tr>\n",
       "    <tr>\n",
       "      <th>4055</th>\n",
       "      <td>2014-05-20 23:09:00</td>\n",
       "      <td>-73.987960</td>\n",
       "      <td>40.754062</td>\n",
       "      <td>-73.956627</td>\n",
       "      <td>40.745962</td>\n",
       "      <td>2</td>\n",
       "      <td>3.11</td>\n",
       "      <td>5.33</td>\n",
       "      <td>11.5</td>\n",
       "      <td>21.30</td>\n",
       "    </tr>\n",
       "    <tr>\n",
       "      <th>5045</th>\n",
       "      <td>2014-05-20 23:09:00</td>\n",
       "      <td>0.000000</td>\n",
       "      <td>0.000000</td>\n",
       "      <td>0.000000</td>\n",
       "      <td>0.000000</td>\n",
       "      <td>1</td>\n",
       "      <td>6.38</td>\n",
       "      <td>5.33</td>\n",
       "      <td>20.0</td>\n",
       "      <td>26.33</td>\n",
       "    </tr>\n",
       "    <tr>\n",
       "      <th>5145</th>\n",
       "      <td>2014-05-20 23:09:00</td>\n",
       "      <td>-73.873527</td>\n",
       "      <td>40.773922</td>\n",
       "      <td>-73.944947</td>\n",
       "      <td>40.828902</td>\n",
       "      <td>5</td>\n",
       "      <td>8.35</td>\n",
       "      <td>5.33</td>\n",
       "      <td>25.0</td>\n",
       "      <td>36.33</td>\n",
       "    </tr>\n",
       "    <tr>\n",
       "      <th>5249</th>\n",
       "      <td>2014-05-20 23:09:00</td>\n",
       "      <td>-74.005625</td>\n",
       "      <td>40.736770</td>\n",
       "      <td>-73.919840</td>\n",
       "      <td>40.877687</td>\n",
       "      <td>1</td>\n",
       "      <td>14.33</td>\n",
       "      <td>2.44</td>\n",
       "      <td>42.0</td>\n",
       "      <td>54.43</td>\n",
       "    </tr>\n",
       "    <tr>\n",
       "      <th>5300</th>\n",
       "      <td>2014-05-20 23:09:00</td>\n",
       "      <td>-73.783898</td>\n",
       "      <td>40.648660</td>\n",
       "      <td>-73.981845</td>\n",
       "      <td>40.762872</td>\n",
       "      <td>6</td>\n",
       "      <td>18.18</td>\n",
       "      <td>5.33</td>\n",
       "      <td>52.0</td>\n",
       "      <td>69.30</td>\n",
       "    </tr>\n",
       "    <tr>\n",
       "      <th>5402</th>\n",
       "      <td>2014-05-20 23:09:00</td>\n",
       "      <td>-73.781987</td>\n",
       "      <td>40.644755</td>\n",
       "      <td>-73.921672</td>\n",
       "      <td>40.828412</td>\n",
       "      <td>1</td>\n",
       "      <td>19.08</td>\n",
       "      <td>5.33</td>\n",
       "      <td>50.5</td>\n",
       "      <td>56.83</td>\n",
       "    </tr>\n",
       "    <tr>\n",
       "      <th>5854</th>\n",
       "      <td>2014-05-20 23:09:00</td>\n",
       "      <td>-73.873210</td>\n",
       "      <td>40.774042</td>\n",
       "      <td>-73.978013</td>\n",
       "      <td>40.755800</td>\n",
       "      <td>5</td>\n",
       "      <td>10.45</td>\n",
       "      <td>5.33</td>\n",
       "      <td>30.5</td>\n",
       "      <td>36.83</td>\n",
       "    </tr>\n",
       "    <tr>\n",
       "      <th>5855</th>\n",
       "      <td>2014-05-20 23:09:00</td>\n",
       "      <td>-73.870160</td>\n",
       "      <td>40.760742</td>\n",
       "      <td>-73.980912</td>\n",
       "      <td>40.788492</td>\n",
       "      <td>4</td>\n",
       "      <td>10.37</td>\n",
       "      <td>5.33</td>\n",
       "      <td>30.5</td>\n",
       "      <td>45.91</td>\n",
       "    </tr>\n",
       "    <tr>\n",
       "      <th>5861</th>\n",
       "      <td>2014-05-20 23:09:00</td>\n",
       "      <td>-73.874445</td>\n",
       "      <td>40.774037</td>\n",
       "      <td>-73.982382</td>\n",
       "      <td>40.784930</td>\n",
       "      <td>1</td>\n",
       "      <td>9.97</td>\n",
       "      <td>5.33</td>\n",
       "      <td>30.5</td>\n",
       "      <td>44.10</td>\n",
       "    </tr>\n",
       "    <tr>\n",
       "      <th>5873</th>\n",
       "      <td>2014-05-20 23:09:00</td>\n",
       "      <td>-73.984350</td>\n",
       "      <td>40.761760</td>\n",
       "      <td>-73.859030</td>\n",
       "      <td>40.718510</td>\n",
       "      <td>2</td>\n",
       "      <td>10.04</td>\n",
       "      <td>5.33</td>\n",
       "      <td>31.5</td>\n",
       "      <td>37.83</td>\n",
       "    </tr>\n",
       "    <tr>\n",
       "      <th>5896</th>\n",
       "      <td>2014-05-20 23:09:00</td>\n",
       "      <td>-73.874567</td>\n",
       "      <td>40.774102</td>\n",
       "      <td>-73.986480</td>\n",
       "      <td>40.759202</td>\n",
       "      <td>1</td>\n",
       "      <td>11.43</td>\n",
       "      <td>5.33</td>\n",
       "      <td>37.0</td>\n",
       "      <td>54.04</td>\n",
       "    </tr>\n",
       "    <tr>\n",
       "      <th>5919</th>\n",
       "      <td>2014-05-20 23:09:00</td>\n",
       "      <td>-74.011087</td>\n",
       "      <td>40.724797</td>\n",
       "      <td>-74.026347</td>\n",
       "      <td>40.750997</td>\n",
       "      <td>1</td>\n",
       "      <td>4.09</td>\n",
       "      <td>11.00</td>\n",
       "      <td>45.0</td>\n",
       "      <td>61.00</td>\n",
       "    </tr>\n",
       "  </tbody>\n",
       "</table>\n",
       "</div>"
      ],
      "text/plain": [
       "         pickup_datetime  pickup_longitude  pickup_latitude  \\\n",
       "2842 2014-05-20 23:09:00        -73.975610        40.751660   \n",
       "4055 2014-05-20 23:09:00        -73.987960        40.754062   \n",
       "5045 2014-05-20 23:09:00          0.000000         0.000000   \n",
       "5145 2014-05-20 23:09:00        -73.873527        40.773922   \n",
       "5249 2014-05-20 23:09:00        -74.005625        40.736770   \n",
       "5300 2014-05-20 23:09:00        -73.783898        40.648660   \n",
       "5402 2014-05-20 23:09:00        -73.781987        40.644755   \n",
       "5854 2014-05-20 23:09:00        -73.873210        40.774042   \n",
       "5855 2014-05-20 23:09:00        -73.870160        40.760742   \n",
       "5861 2014-05-20 23:09:00        -73.874445        40.774037   \n",
       "5873 2014-05-20 23:09:00        -73.984350        40.761760   \n",
       "5896 2014-05-20 23:09:00        -73.874567        40.774102   \n",
       "5919 2014-05-20 23:09:00        -74.011087        40.724797   \n",
       "\n",
       "      dropoff_longitude  dropoff_latitude  passenger_count  trip_distance  \\\n",
       "2842         -73.953920         40.743240                1           2.22   \n",
       "4055         -73.956627         40.745962                2           3.11   \n",
       "5045           0.000000          0.000000                1           6.38   \n",
       "5145         -73.944947         40.828902                5           8.35   \n",
       "5249         -73.919840         40.877687                1          14.33   \n",
       "5300         -73.981845         40.762872                6          18.18   \n",
       "5402         -73.921672         40.828412                1          19.08   \n",
       "5854         -73.978013         40.755800                5          10.45   \n",
       "5855         -73.980912         40.788492                4          10.37   \n",
       "5861         -73.982382         40.784930                1           9.97   \n",
       "5873         -73.859030         40.718510                2          10.04   \n",
       "5896         -73.986480         40.759202                1          11.43   \n",
       "5919         -74.026347         40.750997                1           4.09   \n",
       "\n",
       "      tolls_amount  fare_amount  total_amount  \n",
       "2842          5.33          8.5         14.83  \n",
       "4055          5.33         11.5         21.30  \n",
       "5045          5.33         20.0         26.33  \n",
       "5145          5.33         25.0         36.33  \n",
       "5249          2.44         42.0         54.43  \n",
       "5300          5.33         52.0         69.30  \n",
       "5402          5.33         50.5         56.83  \n",
       "5854          5.33         30.5         36.83  \n",
       "5855          5.33         30.5         45.91  \n",
       "5861          5.33         30.5         44.10  \n",
       "5873          5.33         31.5         37.83  \n",
       "5896          5.33         37.0         54.04  \n",
       "5919         11.00         45.0         61.00  "
      ]
     },
     "execution_count": 9,
     "metadata": {},
     "output_type": "execute_result"
    }
   ],
   "source": [
    "tollrides = trips[trips['tolls_amount'] > 0]\n",
    "tollrides[tollrides['pickup_datetime'] == '2014-05-20 23:09:00']"
   ]
  },
  {
   "cell_type": "markdown",
   "metadata": {
    "deletable": true,
    "editable": true
   },
   "source": [
    "Looking a few samples above, it should be clear that the total amount reflects fare amount, toll and tip somewhat arbitrarily -- this is because when customers pay cash, the tip is not known.  So, we'll use the sum of fare_amount + tolls_amount as what needs to be predicted.  Tips are discretionary and do not have to be included in our fare estimation tool.\n",
    "\n",
    "Let's also look at the distribution of values within the columns."
   ]
  },
  {
   "cell_type": "code",
   "execution_count": 10,
   "metadata": {
    "collapsed": false,
    "deletable": true,
    "editable": true,
    "jupyter": {
     "outputs_hidden": false
    }
   },
   "outputs": [
    {
     "data": {
      "text/html": [
       "<div>\n",
       "<table border=\"1\" class=\"dataframe\">\n",
       "  <thead>\n",
       "    <tr style=\"text-align: right;\">\n",
       "      <th></th>\n",
       "      <th>pickup_longitude</th>\n",
       "      <th>pickup_latitude</th>\n",
       "      <th>dropoff_longitude</th>\n",
       "      <th>dropoff_latitude</th>\n",
       "      <th>passenger_count</th>\n",
       "      <th>trip_distance</th>\n",
       "      <th>tolls_amount</th>\n",
       "      <th>fare_amount</th>\n",
       "      <th>total_amount</th>\n",
       "    </tr>\n",
       "  </thead>\n",
       "  <tbody>\n",
       "    <tr>\n",
       "      <th>count</th>\n",
       "      <td>10789.000000</td>\n",
       "      <td>10789.000000</td>\n",
       "      <td>10789.000000</td>\n",
       "      <td>10789.000000</td>\n",
       "      <td>10789.000000</td>\n",
       "      <td>10789.000000</td>\n",
       "      <td>10789.000000</td>\n",
       "      <td>10789.000000</td>\n",
       "      <td>10789.000000</td>\n",
       "    </tr>\n",
       "    <tr>\n",
       "      <th>mean</th>\n",
       "      <td>-72.577466</td>\n",
       "      <td>39.988518</td>\n",
       "      <td>-72.577056</td>\n",
       "      <td>39.991694</td>\n",
       "      <td>1.648716</td>\n",
       "      <td>2.837068</td>\n",
       "      <td>0.228359</td>\n",
       "      <td>11.165192</td>\n",
       "      <td>13.280564</td>\n",
       "    </tr>\n",
       "    <tr>\n",
       "      <th>std</th>\n",
       "      <td>10.071200</td>\n",
       "      <td>5.523964</td>\n",
       "      <td>10.068592</td>\n",
       "      <td>5.510504</td>\n",
       "      <td>1.282589</td>\n",
       "      <td>3.319036</td>\n",
       "      <td>1.144977</td>\n",
       "      <td>9.444876</td>\n",
       "      <td>11.267704</td>\n",
       "    </tr>\n",
       "    <tr>\n",
       "      <th>min</th>\n",
       "      <td>-75.336579</td>\n",
       "      <td>0.000000</td>\n",
       "      <td>-75.381754</td>\n",
       "      <td>0.000000</td>\n",
       "      <td>0.000000</td>\n",
       "      <td>0.000000</td>\n",
       "      <td>0.000000</td>\n",
       "      <td>2.500000</td>\n",
       "      <td>2.500000</td>\n",
       "    </tr>\n",
       "    <tr>\n",
       "      <th>25%</th>\n",
       "      <td>-73.992172</td>\n",
       "      <td>40.735837</td>\n",
       "      <td>-73.991581</td>\n",
       "      <td>40.734267</td>\n",
       "      <td>1.000000</td>\n",
       "      <td>1.010000</td>\n",
       "      <td>0.000000</td>\n",
       "      <td>6.000000</td>\n",
       "      <td>7.200000</td>\n",
       "    </tr>\n",
       "    <tr>\n",
       "      <th>50%</th>\n",
       "      <td>-73.981871</td>\n",
       "      <td>40.753200</td>\n",
       "      <td>-73.980401</td>\n",
       "      <td>40.752872</td>\n",
       "      <td>1.000000</td>\n",
       "      <td>1.750000</td>\n",
       "      <td>0.000000</td>\n",
       "      <td>8.500000</td>\n",
       "      <td>10.000000</td>\n",
       "    </tr>\n",
       "    <tr>\n",
       "      <th>75%</th>\n",
       "      <td>-73.967330</td>\n",
       "      <td>40.767309</td>\n",
       "      <td>-73.964102</td>\n",
       "      <td>40.767484</td>\n",
       "      <td>2.000000</td>\n",
       "      <td>3.110000</td>\n",
       "      <td>0.000000</td>\n",
       "      <td>12.500000</td>\n",
       "      <td>14.600000</td>\n",
       "    </tr>\n",
       "    <tr>\n",
       "      <th>max</th>\n",
       "      <td>0.000000</td>\n",
       "      <td>41.366138</td>\n",
       "      <td>0.000000</td>\n",
       "      <td>41.366138</td>\n",
       "      <td>6.000000</td>\n",
       "      <td>42.800000</td>\n",
       "      <td>16.000000</td>\n",
       "      <td>194.750000</td>\n",
       "      <td>204.750000</td>\n",
       "    </tr>\n",
       "  </tbody>\n",
       "</table>\n",
       "</div>"
      ],
      "text/plain": [
       "       pickup_longitude  pickup_latitude  dropoff_longitude  dropoff_latitude  \\\n",
       "count      10789.000000     10789.000000       10789.000000      10789.000000   \n",
       "mean         -72.577466        39.988518         -72.577056         39.991694   \n",
       "std           10.071200         5.523964          10.068592          5.510504   \n",
       "min          -75.336579         0.000000         -75.381754          0.000000   \n",
       "25%          -73.992172        40.735837         -73.991581         40.734267   \n",
       "50%          -73.981871        40.753200         -73.980401         40.752872   \n",
       "75%          -73.967330        40.767309         -73.964102         40.767484   \n",
       "max            0.000000        41.366138           0.000000         41.366138   \n",
       "\n",
       "       passenger_count  trip_distance  tolls_amount   fare_amount  \\\n",
       "count     10789.000000   10789.000000  10789.000000  10789.000000   \n",
       "mean          1.648716       2.837068      0.228359     11.165192   \n",
       "std           1.282589       3.319036      1.144977      9.444876   \n",
       "min           0.000000       0.000000      0.000000      2.500000   \n",
       "25%           1.000000       1.010000      0.000000      6.000000   \n",
       "50%           1.000000       1.750000      0.000000      8.500000   \n",
       "75%           2.000000       3.110000      0.000000     12.500000   \n",
       "max           6.000000      42.800000     16.000000    194.750000   \n",
       "\n",
       "       total_amount  \n",
       "count  10789.000000  \n",
       "mean      13.280564  \n",
       "std       11.267704  \n",
       "min        2.500000  \n",
       "25%        7.200000  \n",
       "50%       10.000000  \n",
       "75%       14.600000  \n",
       "max      204.750000  "
      ]
     },
     "execution_count": 10,
     "metadata": {},
     "output_type": "execute_result"
    }
   ],
   "source": [
    "trips.describe()"
   ]
  },
  {
   "cell_type": "markdown",
   "metadata": {
    "deletable": true,
    "editable": true
   },
   "source": [
    "Hmm ... The min, max of longitude look strange.\n",
    "\n",
    "Finally, let's actually look at the start and end of a few of the trips."
   ]
  },
  {
   "cell_type": "code",
   "execution_count": 11,
   "metadata": {
    "collapsed": false,
    "deletable": true,
    "editable": true,
    "jupyter": {
     "outputs_hidden": false
    }
   },
   "outputs": [
    {
     "data": {
      "image/png": "[encoded data removed]",
      "text/plain": [
       "<matplotlib.figure.Figure at 0x7fc35be0c450>"
      ]
     },
     "metadata": {},
     "output_type": "display_data"
    }
   ],
   "source": [
    "def showrides(df, numlines):\n",
    "  import matplotlib.pyplot as plt\n",
    "  lats = []\n",
    "  lons = []\n",
    "  goodrows = df[df['pickup_longitude'] < -70]\n",
    "  for iter, row in goodrows[:numlines].iterrows():\n",
    "    lons.append(row['pickup_longitude'])\n",
    "    lons.append(row['dropoff_longitude'])\n",
    "    lons.append(None)\n",
    "    lats.append(row['pickup_latitude'])\n",
    "    lats.append(row['dropoff_latitude'])\n",
    "    lats.append(None)\n",
    "\n",
    "  sns.set_style(\"darkgrid\")\n",
    "  plt.plot(lons, lats)\n",
    "\n",
    "showrides(trips, 10)"
   ]
  },
  {
   "cell_type": "code",
   "execution_count": 12,
   "metadata": {
    "collapsed": false,
    "deletable": true,
    "editable": true,
    "jupyter": {
     "outputs_hidden": false
    }
   },
   "outputs": [
    {
     "data": {
      "image/png": "[encoded data removed]",
      "text/plain": [
       "<matplotlib.figure.Figure at 0x7fc3601859d0>"
      ]
     },
     "metadata": {},
     "output_type": "display_data"
    }
   ],
   "source": [
    "showrides(tollrides, 10)"
   ]
  },
  {
   "cell_type": "markdown",
   "metadata": {
    "deletable": true,
    "editable": true
   },
   "source": [
    "As you'd expect, rides that involve a toll are longer than the typical ride."
   ]
  },
  {
   "cell_type": "markdown",
   "metadata": {
    "deletable": true,
    "editable": true
   },
   "source": [
    "<h3> Quality control and other preprocessing </h3>\n",
    "\n",
    "We need to do some clean-up of the data:\n",
    "<ol>\n",
    "<li>New York city longitudes are around -74 and latitudes are around 41.</li>\n",
    "<li>We shouldn't have zero passengers.</li>\n",
    "<li>Clean up the total_amount column to reflect only fare_amount and tolls_amount, and then remove those two columns.</li>\n",
    "<li>Before the ride starts, we'll know the pickup and dropoff locations, but not the trip distance (that depends on the route taken), so remove it from the ML dataset</li>\n",
    "<li>Discard the timestamp</li>\n",
    "</ol>\n",
    "\n",
    "Let's change the BigQuery query appropriately.  In production, we'll have to carry out the same preprocessing on the real-time input data. "
   ]
  },
  {
   "cell_type": "code",
   "execution_count": 1,
   "metadata": {
    "collapsed": false,
    "deletable": true,
    "editable": true,
    "jupyter": {
     "outputs_hidden": false
    }
   },
   "outputs": [],
   "source": [
    "def sample_between(a, b):\n",
    "    basequery = \"\"\"\n",
    "SELECT\n",
    "  (tolls_amount + fare_amount) AS fare_amount,\n",
    "  pickup_longitude AS pickuplon,\n",
    "  pickup_latitude AS pickuplat,\n",
    "  dropoff_longitude AS dropofflon,\n",
    "  dropoff_latitude AS dropofflat,\n",
    "  passenger_count*1.0 AS passengers\n",
    "FROM\n",
    "  `nyc-tlc.yellow.trips`\n",
    "WHERE\n",
    "  trip_distance > 0\n",
    "  AND fare_amount >= 2.5\n",
    "  AND pickup_longitude > -78\n",
    "  AND pickup_longitude < -70\n",
    "  AND dropoff_longitude > -78\n",
    "  AND dropoff_longitude < -70\n",
    "  AND pickup_latitude > 37\n",
    "  AND pickup_latitude < 45\n",
    "  AND dropoff_latitude > 37\n",
    "  AND dropoff_latitude < 45\n",
    "  AND passenger_count > 0\n",
    "  \"\"\"\n",
    "    sampler = \"AND ABS(MOD(FARM_FINGERPRINT(CAST(pickup_datetime AS STRING)), EVERY_N)) = 1\"\n",
    "    sampler2 = \"AND {0} >= {1}\\n AND {0} < {2}\".format(\n",
    "           \"ABS(MOD(FARM_FINGERPRINT(CAST(pickup_datetime AS STRING)), EVERY_N * 100))\",\n",
    "           \"(EVERY_N * {})\".format(a), \"(EVERY_N * {})\".format(b)\n",
    "        )\n",
    "    return \"{}\\n{}\\n{}\".format(basequery, sampler, sampler2)\n",
    "\n",
    "def create_query(phase, EVERY_N):\n",
    "  \"\"\"Phase: train (70%) valid (15%) or test (15%)\"\"\"\n",
    "  query = \"\"\n",
    "  if phase == 'train':\n",
    "    # Training\n",
    "    query = sample_between(0, 70)\n",
    "  elif phase == 'valid':\n",
    "    # Validation\n",
    "    query = sample_between(70, 85)\n",
    "  else:\n",
    "    # Test\n",
    "    query = sample_between(85, 100)\n",
    "  return query.replace(\"EVERY_N\", str(EVERY_N))\n"
   ]
  },
  {
   "cell_type": "code",
   "execution_count": null,
   "metadata": {
    "collapsed": false,
    "jupyter": {
     "outputs_hidden": false
    }
   },
   "outputs": [],
   "source": [
    "# TODO: try out train, test and valid here\n",
    "print (create_query('train', 100000))"
   ]
  },
  {
   "cell_type": "code",
   "execution_count": 39,
   "metadata": {
    "collapsed": false,
    "deletable": true,
    "editable": true,
    "jupyter": {
     "outputs_hidden": false
    }
   },
   "outputs": [
    {
     "name": "stdout",
     "output_type": "stream",
     "text": [
      "['fare_amount', u'pickuplon', u'pickuplat', u'dropofflon', u'dropofflat', u'passengers', 'key']\n",
      "Wrote 7645 to taxi-train.csv\n",
      "['fare_amount', u'pickuplon', u'pickuplat', u'dropofflon', u'dropofflat', u'passengers', 'key']\n",
      "Wrote 1814 to taxi-valid.csv\n",
      "['fare_amount', u'pickuplon', u'pickuplat', u'dropofflon', u'dropofflat', u'passengers', 'key']\n",
      "Wrote 1017 to taxi-test.csv\n"
     ]
    }
   ],
   "source": [
    "def to_csv(df, filename):\n",
    "  outdf = df.copy(deep = False)\n",
    "  outdf.loc[:, 'key'] = np.arange(0, len(outdf)) # rownumber as key\n",
    "  # Reorder columns so that target is first column\n",
    "  cols = outdf.columns.tolist()\n",
    "  cols.remove('fare_amount')\n",
    "  cols.insert(0, 'fare_amount')\n",
    "  print (cols)  # new order of columns\n",
    "  outdf = outdf[cols]\n",
    "  outdf.to_csv(filename, header = False, index_label = False, index = False)\n",
    "  print (\"Wrote {} to {}\".format(len(outdf), filename))\n",
    "\n",
    "for phase in ['train', 'valid', 'test']:\n",
    "  query = create_query(phase, 100000)\n",
    "  df = bigquery.Client().query(query).to_dataframe()\n",
    "  to_csv(df, 'taxi-{}.csv'.format(phase))"
   ]
  },
  {
   "cell_type": "markdown",
   "metadata": {
    "deletable": true,
    "editable": true
   },
   "source": [
    "<h3> Verify that datasets exist </h3>"
   ]
  },
  {
   "cell_type": "code",
   "execution_count": 40,
   "metadata": {
    "collapsed": false,
    "deletable": true,
    "editable": true,
    "jupyter": {
     "outputs_hidden": false
    }
   },
   "outputs": [
    {
     "name": "stdout",
     "output_type": "stream",
     "text": [
      "-rw-r--r-- 1 root root  56326 Aug 30 21:32 taxi-test.csv\n",
      "-rw-r--r-- 1 root root 425723 Aug 30 21:32 taxi-train.csv\n",
      "-rw-r--r-- 1 root root 100355 Aug 30 21:32 taxi-valid.csv\n"
     ]
    }
   ],
   "source": [
    "!ls -l *.csv"
   ]
  },
  {
   "cell_type": "markdown",
   "metadata": {
    "deletable": true,
    "editable": true
   },
   "source": [
    "We have 3 .csv files corresponding to train, valid, test.  The ratio of file-sizes correspond to our split of the data."
   ]
  },
  {
   "cell_type": "code",
   "execution_count": 41,
   "metadata": {
    "collapsed": false,
    "deletable": true,
    "editable": true,
    "jupyter": {
     "outputs_hidden": false
    }
   },
   "outputs": [
    {
     "name": "stdout",
     "output_type": "stream",
     "text": [
      "2.5,-73.988954,40.758612,-73.952118,40.776227,2.0,0\n",
      "2.5,-73.971783,40.763727,-73.971769,40.763768,2.0,1\n",
      "3.0,-73.976258,40.786085,-73.974417,40.788517,2.0,2\n",
      "3.0,-73.990085,40.746602,-73.993129,40.74765,2.0,3\n",
      "3.5,-73.981335,40.781372,-73.981517,40.78386,2.0,4\n",
      "3.5,-73.982673,40.727202,-73.978255,40.729524,2.0,5\n",
      "3.5,-73.98582,40.744768,-73.978803,40.752505,2.0,6\n",
      "3.5,-73.984404,40.767969,-73.988457,40.764324,2.0,7\n",
      "3.5,-73.961372,40.769257,-73.966002,40.768292,2.0,8\n",
      "3.5,-73.992835,40.768267,-73.93862,40.788212,2.0,9\n"
     ]
    }
   ],
   "source": [
    "!head taxi-train.csv"
   ]
  },
  {
   "cell_type": "markdown",
   "metadata": {
    "deletable": true,
    "editable": true
   },
   "source": [
    "Looks good! We now have our ML datasets and are ready to train ML models, validate them and evaluate them."
   ]
  },
  {
   "cell_type": "markdown",
   "metadata": {
    "deletable": true,
    "editable": true
   },
   "source": [
    "<h3> Benchmark </h3>\n",
    "\n",
    "Before we start building complex ML models, it is a good idea to come up with a very simple model and use that as a benchmark.\n",
    "\n",
    "My model is going to be to simply divide the mean fare_amount by the mean trip_distance to come up with a rate and use that to predict.  Let's compute the RMSE of such a model."
   ]
  },
  {
   "cell_type": "code",
   "execution_count": 42,
   "metadata": {
    "collapsed": false,
    "deletable": true,
    "editable": true,
    "jupyter": {
     "outputs_hidden": false
    }
   },
   "outputs": [
    {
     "name": "stdout",
     "output_type": "stream",
     "text": [
      "Rate = $2.61647175325/km\n",
      "Train RMSE = 7.45944982351\n",
      "Valid RMSE = 9.35408256465\n",
      "Test RMSE = 5.44470804972\n"
     ]
    },
    {
     "name": "stderr",
     "output_type": "stream",
     "text": [
      "/usr/local/lib/python2.7/dist-packages/ipykernel/__main__.py:8: RuntimeWarning: invalid value encountered in arccos\n"
     ]
    }
   ],
   "source": [
    "from google.cloud import bigquery\n",
    "import pandas as pd\n",
    "import numpy as np\n",
    "import shutil\n",
    "\n",
    "def distance_between(lat1, lon1, lat2, lon2):\n",
    "  # Haversine formula to compute distance \"as the crow flies\".  Taxis can't fly of course.\n",
    "  dist = np.degrees(np.arccos(np.sin(np.radians(lat1)) * np.sin(np.radians(lat2)) + np.cos(np.radians(lat1)) * np.cos(np.radians(lat2)) * np.cos(np.radians(lon2 - lon1)))) * 60 * 1.515 * 1.609344\n",
    "  return dist\n",
    "\n",
    "def estimate_distance(df):\n",
    "  return distance_between(df['pickuplat'], df['pickuplon'], df['dropofflat'], df['dropofflon'])\n",
    "\n",
    "def compute_rmse(actual, predicted):\n",
    "  return np.sqrt(np.mean((actual - predicted)**2))\n",
    "\n",
    "def print_rmse(df, rate, name):\n",
    "  print (\"{1} RMSE = {0}\".format(compute_rmse(df['fare_amount'], rate * estimate_distance(df)), name))\n",
    "\n",
    "FEATURES = ['pickuplon','pickuplat','dropofflon','dropofflat','passengers']\n",
    "TARGET = 'fare_amount'\n",
    "columns = list([TARGET])\n",
    "columns.extend(FEATURES) # in CSV, target is the first column, after the features\n",
    "columns.append('key')\n",
    "df_train = pd.read_csv('taxi-train.csv', header = None, names = columns)\n",
    "df_valid = pd.read_csv('taxi-valid.csv', header = None, names = columns)\n",
    "df_test = pd.read_csv('taxi-test.csv', header = None, names = columns)\n",
    "rate = df_train['fare_amount'].mean() / estimate_distance(df_train).mean()\n",
    "print (\"Rate = ${0}/km\".format(rate))\n",
    "print_rmse(df_train, rate, 'Train')\n",
    "print_rmse(df_valid, rate, 'Valid') \n",
    "print_rmse(df_test, rate, 'Test') "
   ]
  },
  {
   "cell_type": "markdown",
   "metadata": {
    "deletable": true,
    "editable": true
   },
   "source": [
    "The simple distance-based rule gives us a RMSE of <b>$9.35</b> on the validation dataset.  We have to beat this, of course, but you will find that simple rules of thumb like this can be surprisingly difficult to beat. You don't wnat to set a goal on the test dataset because you want to change the architecture of the network etc. to get the best validation error. Then, you can evaluate ONCE on the test data."
   ]
  },
  {
   "cell_type": "markdown",
   "metadata": {
    "deletable": true,
    "editable": true
   },
   "source": [
    "## Challenge Exercise\n",
    "\n",
    "Let's say that you want to predict whether a Stackoverflow question will be acceptably answered. Using this [public dataset of questions](https://bigquery.cloud.google.com/table/bigquery-public-data:stackoverflow.posts_questions), create a machine learning dataset that you can use for classification.\n",
    "<p>\n",
    "What is a reasonable benchmark for this problem?\n",
    "What features might be useful?\n",
    "<p>\n",
    "If you got the above easily, try this harder problem: you want to predict whether a question will be acceptably answered within 2 days. How would you create the dataset?\n",
    "<p>\n",
    "Hint (highlight to see):\n",
    "<p style='color:white' linkstyle='color:white'> \n",
    "You will need to do a SQL join with the table of [answers]( https://bigquery.cloud.google.com/table/bigquery-public-data:stackoverflow.posts_answers) to determine whether the answer was within 2 days.\n",
    "</p>"
   ]
  },
  {
   "cell_type": "markdown",
   "metadata": {
    "deletable": true,
    "editable": true
   },
   "source": [
    "Copyright 2018 Google Inc.\n",
    "Licensed under the Apache License, Version 2.0 (the \"License\"); you may not use this file except in compliance with the License. You may obtain a copy of the License at\n",
    "http://www.apache.org/licenses/LICENSE-2.0\n",
    "Unless required by applicable law or agreed to in writing, software distributed under the License is distributed on an \"AS IS\" BASIS, WITHOUT WARRANTIES OR CONDITIONS OF ANY KIND, either express or implied. See the License for the specific language governing permissions and limitations under the License."
   ]
  }
 ],
 "metadata": {
  "kernelspec": {
   "display_name": "Python 3",
   "language": "python",
   "name": "python3"
  },
  "language_info": {
   "codemirror_mode": {
    "name": "ipython",
    "version": 3
   },
   "file_extension": ".py",
   "mimetype": "text/x-python",
   "name": "python",
   "nbconvert_exporter": "python",
   "pygments_lexer": "ipython3",
   "version": "3.7.6"
  }
 },
 "nbformat": 4,
 "nbformat_minor": 4
}
